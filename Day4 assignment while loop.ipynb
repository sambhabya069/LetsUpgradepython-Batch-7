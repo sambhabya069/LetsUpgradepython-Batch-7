{
 "cells": [
  {
   "cell_type": "markdown",
   "metadata": {},
   "source": [
    "# Day 4 - Assignment "
   ]
  },
  {
   "cell_type": "code",
   "execution_count": 15,
   "metadata": {},
   "outputs": [
    {
     "name": "stdout",
     "output_type": "stream",
     "text": [
      "The 1st armstrong number in the range is : 1741725\n"
     ]
    }
   ],
   "source": [
    "for num in range(1042000,702648265):\n",
    "   powlen = len(str(num))\n",
    "   sum = 0\n",
    "   temp = num\n",
    "   while num > 0:\n",
    "       digit = num % 10\n",
    "       sum += digit **powlen\n",
    "       num //= 10\n",
    "\n",
    "   if temp == sum:\n",
    "       print(\"The 1st armstrong number in the range is :\",temp)\n",
    "       break"
   ]
  },
  {
   "cell_type": "code",
   "execution_count": null,
   "metadata": {},
   "outputs": [],
   "source": []
  }
 ],
 "metadata": {
  "kernelspec": {
   "display_name": "Python 3",
   "language": "python",
   "name": "python3"
  },
  "language_info": {
   "codemirror_mode": {
    "name": "ipython",
    "version": 3
   },
   "file_extension": ".py",
   "mimetype": "text/x-python",
   "name": "python",
   "nbconvert_exporter": "python",
   "pygments_lexer": "ipython3",
   "version": "3.7.7"
  }
 },
 "nbformat": 4,
 "nbformat_minor": 4
}
